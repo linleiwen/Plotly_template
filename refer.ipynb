{
 "cells": [
  {
   "cell_type": "markdown",
   "metadata": {},
   "source": [
    "change datetime format"
   ]
  },
  {
   "cell_type": "markdown",
   "metadata": {},
   "source": [
    "format reference: 1. https://github.com/d3/d3-format/blob/master/README.md\n",
    "            2. https://mkaz.tech/code/python-string-format-cookbook/"
   ]
  },
  {
   "cell_type": "code",
   "execution_count": null,
   "metadata": {
    "collapsed": true
   },
   "outputs": [],
   "source": [
    "def updateDT(formt):\n",
    "    stocks['layout'].update({'xaxis' : {'tickformat' : formt}})\n",
    "    pyo.iplot(stocks)"
   ]
  },
  {
   "cell_type": "markdown",
   "metadata": {},
   "source": [
    "updateDT(\"%d/%m/%y\")"
   ]
  },
  {
   "cell_type": "markdown",
   "metadata": {},
   "source": [
    "Hover text info change"
   ]
  },
  {
   "cell_type": "code",
   "execution_count": null,
   "metadata": {
    "collapsed": true
   },
   "outputs": [],
   "source": [
    "def updateHoverInfo(info):\n",
    "    trace.update({'hoverinfo' : info})\n",
    "    pyo.iplot([trace])\n",
    "    \n",
    "'''updateHoverInfo('text+x+y')'''"
   ]
  },
  {
   "cell_type": "markdown",
   "metadata": {},
   "source": [
    "Create Stack Area with hover text 3.8"
   ]
  },
  {
   "cell_type": "code",
   "execution_count": null,
   "metadata": {
    "collapsed": true
   },
   "outputs": [],
   "source": [
    "def createStackedQuantArea(df, time, cols, hover, title, yaxisTitle):\n",
    "    \"\"\"\n",
    "    A function which manipulates the data into the correct format to produce a stacked quantity area plot with Plotly.\n",
    "    \n",
    "    Takes five arguments:\n",
    "    \n",
    "    df - a pandas DataFrame\n",
    "    time - the time element of the data, must be a column in the DataFrame\n",
    "    cols - the name of the columns in the DataFrame which you want to include in the area plot\n",
    "    title - the title of the chart\n",
    "    yaxisTitle - the yaxis title of the chart (the xaxis title comes from the time variable)\n",
    "    \"\"\"\n",
    "    traces = []\n",
    "    stackedAreaDF = df.loc[:, ([time] + cols)]\n",
    "    stackedAreaDF.fillna(0, inplace=True)\n",
    "    \n",
    "    cumulative = stackedAreaDF[cols].cumsum(axis = 1)\n",
    "    \n",
    "    cumulAndOrig = cumulative.merge(stackedAreaDF, \n",
    "                                         left_index = True,\n",
    "                                         right_index = True,\n",
    "                                        suffixes = ('_c','_o'))\n",
    "    \n",
    "    for col in cols:\n",
    "        cumulAndOrig[col + '_t'] = \"<b>\" + str(col)[:-6]  + \"</b><br>\" + str(hover) + cumulAndOrig[col + \"_o\"].apply(lambda x:\n",
    "            \"{:,}Kt\".format(int(round(x, 0))))\n",
    "        \n",
    "        traces.append({'type' : 'scatter',\n",
    "                      'x' : cumulAndOrig[time],\n",
    "                      'y' : cumulAndOrig[col + \"_c\"],\n",
    "                       'text' : cumulAndOrig[col + \"_t\"],\n",
    "                       'hoverinfo' : 'text+x',\n",
    "                      'name' : col[:-6],\n",
    "                      'mode' : 'lines',\n",
    "                      'fill' : 'tonexty'})\n",
    "        \n",
    "    data = Data(traces)\n",
    "    layout = {'title' : title,\n",
    "             'xaxis' : {'title' : time},\n",
    "             'yaxis' : {'title' : yaxisTitle,\n",
    "                       'ticksuffix' : ' Kt'},\n",
    "             'hovermode' : 'closest'}\n",
    "    fig = Figure(data = data, layout = layout)\n",
    "    pyo.iplot(fig)\n",
    "    return cumulAndOrig,fig\n",
    "    \n",
    "'''\n",
    "C02Quant = createStackedQuantArea(emissions, 'Year', ['United Arab Emirates | ARE','United Kingdom | GBR', \n",
    "                   'United States | USA','China | CHN', 'India | IND'], 'Total C02 Emissions: ',\n",
    "                            \"Quantity of Co2 Emissions, 1960-2011\", 'Quantity of Co2 Emissions')\n",
    "'''"
   ]
  },
  {
   "cell_type": "markdown",
   "metadata": {
    "collapsed": true
   },
   "source": [
    "Create proportional Stack Area with hover text 3.9"
   ]
  },
  {
   "cell_type": "code",
   "execution_count": null,
   "metadata": {
    "collapsed": true
   },
   "outputs": [],
   "source": [
    "def createStackedPropArea(df, time, cols, hover, title, yaxisTitle): \n",
    "    \"\"\"\n",
    "    A function which manipulates the data into the correct format to produce a stacked proportional area plot with Plotly.\n",
    "    \n",
    "    Takes five arguments:\n",
    "    \n",
    "    df - a pandas DataFrame\n",
    "    time - the time element of the data, must be a column in the DataFrame\n",
    "    cols - the name of the columns in the DataFrame which you want to include in the area plot\n",
    "    hover - the text that you want to include on the hovertext\n",
    "    title - the title of the chart\n",
    "    yaxisTitle - the yaxis title of the chart (the xaxis title comes from the time variable)\n",
    "    \"\"\"\n",
    "    PCcols = []\n",
    "    traces = []\n",
    "    \n",
    "    stackedAreaDF = df.loc[:, ([time] + cols)]\n",
    "    stackedAreaDF.fillna(0, inplace=True)\n",
    "        \n",
    "    stackedAreaDF['Total'] = stackedAreaDF[cols].sum(axis =1)\n",
    "    \n",
    "    for col in cols:\n",
    "        stackedAreaDF[\"pc_\"+str(col)] = stackedAreaDF[col] / stackedAreaDF['Total']\n",
    "        PCcols.append(\"pc_\"+str(col))\n",
    "        \n",
    "    stackedPCAreaDF = stackedAreaDF[PCcols].cumsum(axis=1)\n",
    "    stackedAreaData = stackedAreaDF[PCcols + [time]].merge(stackedPCAreaDF[PCcols], \n",
    "                                        left_index = True,\n",
    "                                         right_index = True,\n",
    "                                        suffixes = ('_o','_c'))\n",
    "\n",
    "    for col in PCcols:       \n",
    "        stackedAreaData[col + '_t'] = \"<b>\" + str(col)[3:-6]  + \"</b><br>\" + str(hover) + stackedAreaData[col + \"_o\"].apply(lambda x:\n",
    "            \"{:.0%}\".format(x))\n",
    "        \n",
    "        \n",
    "        traces.append({'type' : 'scatter',\n",
    "                      'x' : stackedAreaData[time],\n",
    "                      'y' : stackedAreaData[col + \"_c\"],\n",
    "                       'text' : stackedAreaData[col + \"_t\"],\n",
    "                       'hoverinfo' : 'text+x',\n",
    "                      'name' : col[3:-6],\n",
    "                      'mode' : 'lines',\n",
    "                      'fill' : 'tonexty'})\n",
    "    \n",
    "    data = Data(traces)\n",
    "    layout = {'title' : title,\n",
    "             'xaxis' : {'title' : time},\n",
    "             'yaxis' : {'title' : yaxisTitle,\n",
    "                       'tickformat' : '%'},\n",
    "              'hovermode' : 'closest'}\n",
    "    fig = Figure(data = data, layout = layout)\n",
    "    pyo.iplot(fig)\n",
    "\n",
    "    return stackedAreaData,fig\n",
    "    \n",
    "    \n",
    "C02Prop = createStackedPropArea(emissions, 'Year', ['United Arab Emirates | ARE','United Kingdom | GBR', \n",
    "                   'United States | USA','China | CHN', 'India | IND',], 'Proportion of total C02 Emissions: ',\n",
    "                            \"Proportion of Co2 Emissions, 1960-2011\", 'Proprtion of Co2 Emissions')"
   ]
  },
  {
   "cell_type": "markdown",
   "metadata": {},
   "source": []
  },
  {
   "cell_type": "markdown",
   "metadata": {},
   "source": [
    "scatterplot Matrix without category 4.14 or create new col with single value \"nocat\", and then use scatterplot Matrix with category 4.14"
   ]
  },
  {
   "cell_type": "code",
   "execution_count": null,
   "metadata": {
    "collapsed": true
   },
   "outputs": [],
   "source": [
    "from plotly import tools\n",
    "def scatterplotMatrix(df, scatterColumns,color, title):\n",
    "    \"\"\"\n",
    "    This function create a scatterplot matrix and expects the following inputs:\n",
    "    - df - The DataFrame which contains the data\n",
    "    - scatterColumns - a list of the columns in the DataFrame which we want to plot on a scatterplot matrix\n",
    "    - title - the title of the chart\n",
    "    \n",
    "    This function does not create a scatterplot where the same variable intersects with itself.\n",
    "    \"\"\"\n",
    "    \n",
    "    fig = tools.make_subplots(rows = len(scatterColumns),\n",
    "                             cols = len(scatterColumns),\n",
    "                             print_grid = True,\n",
    "                             shared_xaxes = True,\n",
    "                             shared_yaxes = True)\n",
    "    \n",
    "    diff = max(df[scatterColumns].max()) - min(df[scatterColumns].min())\n",
    "    \n",
    "    minimum = min(df[scatterColumns].min()) - (diff * 0.1)\n",
    "    maximum = max(df[scatterColumns].max()) + (diff * 0.1)\n",
    "    \n",
    "    for i, column in enumerate(scatterColumns):\n",
    "        fig['layout']['xaxis{}'.format(i + 1)].update({'title' : column,\n",
    "                                                      'range' : [minimum,maximum]})\n",
    "        \n",
    "        for j, row in enumerate(scatterColumns):\n",
    "            fig['layout']['yaxis{}'.format(i + 1)].update({'title' : row,\n",
    "                                                      'range' : [minimum,maximum]})\n",
    "            \n",
    "            if column != row:\n",
    "                if i == 0 and j == 1:\n",
    "                    show = True\n",
    "                else:\n",
    "                    show = False\n",
    "                \n",
    "                    fig.append_trace({'type' : 'scatter',\n",
    "                                     'mode' : 'markers',\n",
    "                                     'x' : df.loc[:, column],\n",
    "                                     'y' : df.loc[:, row],\n",
    "                                     'marker' : {'color' : color,\n",
    "                                                'size' : 3},\n",
    "                                     'showlegend' : False},\n",
    "                                    col = i + 1,\n",
    "                                    row = j + 1)\n",
    "                    \n",
    "    fig['layout'].update({'title' : title,\n",
    "                         'height' : len(scatterColumns * 200),\n",
    "                         'width' : len(scatterColumns * 200)})\n",
    "    pyo.iplot(fig)\n",
    "    return fig\n",
    "'''\n",
    "irisScatter = scatterplotMatrix(iris, \n",
    "                  ['Sepal length','Sepal width','Petal length','Petal width'],\n",
    "                 'purple','Scatterplot matrix of Iris dataset')\n",
    "'''"
   ]
  },
  {
   "cell_type": "markdown",
   "metadata": {},
   "source": [
    "scatterplot Matrix with category 4.14"
   ]
  },
  {
   "cell_type": "code",
   "execution_count": null,
   "metadata": {
    "collapsed": true
   },
   "outputs": [],
   "source": [
    "from plotly import tools\n",
    "def scatterplotMatrix(df, scatterColumns, categoricalColumn, colours, title):\n",
    "    \"\"\"\n",
    "    This function create a scatterplot matrix and expects the following inputs:\n",
    "    - df - The DataFrame which contains the data\n",
    "    - scatterColumns - a list of the columns in the DataFrame which we want to plot on a scatterplot matrix\n",
    "    - categoricalColumn - the column which contains the categories of data which should be plotted\n",
    "    - colours - a list of colours equal in length to the number of categories in the categoricalColumn\n",
    "    - title - the title of the chart\n",
    "    \n",
    "    This function does not create a scatterplot where the same variable intersects with itself.\n",
    "    \"\"\"\n",
    "    \n",
    "    categories = list(df[categoricalColumn].unique())\n",
    "    colourLookup = dict(zip(categories, colours))\n",
    "    \n",
    "    fig = tools.make_subplots(rows = len(scatterColumns),\n",
    "                             cols = len(scatterColumns),\n",
    "                             print_grid = True,\n",
    "                             shared_xaxes = True,\n",
    "                             shared_yaxes = True)\n",
    "    \n",
    "    diff = max(df[scatterColumns].max()) - min(df[scatterColumns].min())\n",
    "    \n",
    "    minimum = min(df[scatterColumns].min()) - (diff * 0.1)\n",
    "    maximum = max(df[scatterColumns].max()) + (diff * 0.1)\n",
    "    \n",
    "    for i, column in enumerate(scatterColumns):\n",
    "        fig['layout']['xaxis{}'.format(i + 1)].update({'title' : column,\n",
    "                                                      'range' : [minimum,maximum]})\n",
    "        \n",
    "        for j, row in enumerate(scatterColumns):\n",
    "            fig['layout']['yaxis{}'.format(i + 1)].update({'title' : row,\n",
    "                                                      'range' : [minimum,maximum]})\n",
    "            \n",
    "            if column != row:\n",
    "                if i == 0 and j == 1:\n",
    "                    show = True\n",
    "                else:\n",
    "                    show = False\n",
    "                \n",
    "                for category, colour in colourLookup.items():\n",
    "                    fig.append_trace({'type' : 'scatter',\n",
    "                                     'mode' : 'markers',\n",
    "                                     'x' : df.loc[df[categoricalColumn] == category, column],\n",
    "                                     'y' : df.loc[df[categoricalColumn] == category, row],\n",
    "                                     'marker' : {'color' : colour,\n",
    "                                                'size' : 3},\n",
    "                                     'name' : category,\n",
    "                                     'legendgroup' : category,\n",
    "                                     'showlegend' : show},\n",
    "                                    col = i + 1,\n",
    "                                    row = j + 1)\n",
    "                    \n",
    "    fig['layout'].update({'title' : title,\n",
    "                         'height' : len(scatterColumns * 200),\n",
    "                         'width' : len(scatterColumns * 200)})\n",
    "    pyo.iplot(fig)\n",
    "    return fig\n",
    "'''scatterplotMatrix(iris, \n",
    "                  ['Sepal length','Sepal width','Petal length','Petal width'], \n",
    "                  'Species', \n",
    "                  ['purple','orange','green'],\n",
    "                 'Scatterplot matrix of Iris dataset')\n",
    "                 '''\n"
   ]
  }
 ],
 "metadata": {
  "kernelspec": {
   "display_name": "Python 3",
   "language": "python",
   "name": "python3"
  },
  "language_info": {
   "codemirror_mode": {
    "name": "ipython",
    "version": 3
   },
   "file_extension": ".py",
   "mimetype": "text/x-python",
   "name": "python",
   "nbconvert_exporter": "python",
   "pygments_lexer": "ipython3",
   "version": "3.6.2"
  }
 },
 "nbformat": 4,
 "nbformat_minor": 2
}
